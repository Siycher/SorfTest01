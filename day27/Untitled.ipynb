{
 "cells": [
  {
   "cell_type": "code",
   "execution_count": 31,
   "metadata": {},
   "outputs": [],
   "source": [
    "import requests\n",
    "# 会话对象\n",
    "s = requests.session()"
   ]
  },
  {
   "cell_type": "code",
   "execution_count": 44,
   "metadata": {},
   "outputs": [
    {
     "data": {
      "text/plain": [
       "'{\"status\":1,\"url\":\"\\\\/Main\\\\/index.html\",\"token\":\"MDAwMDAwMDAwMMurrpWavLehhs1-lbO5hZWEzYfcepuomcWmmqaMiHtnr5ypzYWosKKZq6HQxtOK0ZCme5p-haiZu2yrn4uNhJ3KedDYk7ivboS4jtyzqY2Uhbd_2356YW0\",\"isenterprise\":0,\"uid\":\"MDAwMDAwMDAwMLSGz96Iqb9phLVyoQ\"}'"
      ]
     },
     "execution_count": 44,
     "metadata": {},
     "output_type": "execute_result"
    }
   ],
   "source": [
    "login_url = 'https://v4.ketangpai.com/UserApi/login'\n",
    "data = {\"email\":\"877649301@qq.com\",\"password\":\"Pythonxinlan\",\"remember\":0}\n",
    "# 登录\n",
    "res = s.post(url=login_url, data=data)\n",
    "res.text"
   ]
  },
  {
   "cell_type": "code",
   "execution_count": 36,
   "metadata": {},
   "outputs": [
    {
     "data": {
      "text/plain": [
       "<RequestsCookieJar[Cookie(version=0, name='PHPSESSID', value='90bfe30pmub41ejth45dc42l76', port=None, port_specified=False, domain='v4.ketangpai.com', domain_specified=False, domain_initial_dot=False, path='/', path_specified=True, secure=True, expires=None, discard=True, comment=None, comment_url=None, rest={'HttpOnly': None}, rfc2109=False), Cookie(version=0, name='ketangpai_home_remember', value='think%3A%7B%22username%22%3A%22MDAwMDAwMDAwMLV2x5eHz7dthN523LWtftmC0IDak4NubQ%22%2C%22expire%22%3A%22MDAwMDAwMDAwMLOGvdyIqbtrhrh6mbO2dZ4%22%2C%22token%22%3A%22MDAwMDAwMDAwMMurrpWavLehhs1-lbO5hZWEzYfcepuomcWmmqaMiHtnr5ypzYWosKKZq6HQxtOK0ZCme5p-q6iZu2yrn4uNhJ3KedDYk7ivboS4jtyzqY2Uhbd3mYCKYW0%22%2C%22sign%22%3A%22ea9298b9b5f75be6b5f75d48b4cf72bf%22%7D', port=None, port_specified=False, domain='v4.ketangpai.com', domain_specified=False, domain_initial_dot=False, path='/', path_specified=True, secure=False, expires=1618589998, discard=False, comment=None, comment_url=None, rest={'httponly': None}, rfc2109=False), Cookie(version=0, name='ketangpai_home_slb', value='39a3a9d48e236da5de6642198ec9dff2', port=None, port_specified=False, domain='v4.ketangpai.com', domain_specified=False, domain_initial_dot=False, path='/', path_specified=True, secure=False, expires=None, discard=True, comment=None, comment_url=None, rest={'httponly': None}, rfc2109=False)]>"
      ]
     },
     "execution_count": 36,
     "metadata": {},
     "output_type": "execute_result"
    }
   ],
   "source": [
    "res.cookies"
   ]
  },
  {
   "cell_type": "code",
   "execution_count": 45,
   "metadata": {},
   "outputs": [
    {
     "data": {
      "text/plain": [
       "'{\"status\":1,\"toplists\":[{\"id\":\"MDAwMDAwMDAwMLOGpZaHqc1phKVyoQ\",\"issys\":\"0\",\"coursename\":\"python\\\\u5168\\\\u6808\\\\u7b2c38\\\\u671f\",\"code\":\"TX5CQX\",\"stopcode\":\"1\",\"classname\":\"\",\"semester\":\"2020-2021\",\"term\":\"1\",\"username\":\"\\\\u67e0\\\\u6aac\\\\u73ed-\\\\u661f\\\\u661f\",\"avatar\":\"http:\\\\/\\\\/img.ketangpai.com\\\\/ketangpai.aliapp.com\\\\/1\\\\/webroot\\\\/Uploads\\\\/Download\\\\/2018-04-11\\\\/1523411221.jpg%40%2162-62?OSSAccessKeyId=LTAItfPkNIKJFibY&Expires=1933939303&Signature=JC1xtFOAcEo6ur5aI38gGAUrAZQ%3D\",\"minpic\":\"\\\\/\\\\/assets.ketangpai.com\\\\/theme\\\\/min\\\\/02.jpg\",\"middlepic\":\"\\\\/\\\\/assets.ketangpai.com\\\\/theme\\\\/middle\\\\/02.jpg\",\"bannercolor\":\"#318eeb\",\"studentbgpic\":\"\\\\/\\\\/assets.ketangpai.com\\\\/theme\\\\/student\\\\/big\\\\/02.png\",\"studentminpic\":\"\\\\/\\\\/assets.ketangpai.com\\\\/theme\\\\/student\\\\/min\\\\/02.png\",\"teacherbgpic\":\"\\\\/\\\\/assets.ketangpai.com\\\\/theme\\\\/teacher\\\\/big\\\\/02.png\",\"teacherminpic\":\"\\\\/\\\\/assets.ketangpai.com\\\\/theme\\\\/teacher\\\\/min\\\\/02.png\",\"owner\":false,\"total\":\"104\",\"hlist\":[{\"id\":\"MDAwMDAwMDAwMLOcpZaGqadphctyoQ\",\"title\":\"day26_basecase\\\\u5c01\\\\u88c5_\\\\u4e1a\\\\u52a1\\\\u6d41\",\"type\":\"0\"},{\"id\":\"MDAwMDAwMDAwMLOcpZWHubtrhbVyoQ\",\"title\":\"day25_\\\\u52a8\\\\u6001\\\\u66ff\\\\u6362\\\\u53c2\\\\u6570_\\\\u65b9\\\\u6cd5\\\\u7ea7\\\\u524d\\\\u7f6e\\\\u6761\\\\u4ef6\\\\u4e0e\\\\u9879\\\\u76ee\\\\u5ba1\\\\u6838\\\\u63a5\\\\u53e3\\\\u6d4b\\\\u8bd5\",\"type\":\"0\"}],\"role\":1,\"packageUrl\":\"https:\\\\/\\\\/package.ketangpai.com\\\\/Package\\\\/packageCourseView\\\\/courseid\\\\/MDAwMDAwMDAwMLOGpZaHqc1phKVyoQ\\\\/uid\\\\/MDAwMDAwMDAwMLSGz96Iqb9phLVyoQ.html\",\"bgcolor\":\"bgclass4\",\"inviteclass\":\"course-invite-color-4\",\"tclass\":\"tclass-4\",\"students\":[{\"username\":\"\\\\u4e2b\\\\u5934-C\",\"stno\":\"038001\",\"avatar\":\"\\\\/\\\\/assets.ketangpai.com\\\\/mobileasset\\\\/public\\\\/common\\\\/img\\\\/40\\\\/37.png\",\"nikename\":\"\\\\u4e2b\\\\u5934-C\",\"nikestno\":\"038001\"},{\"username\":\"\\\\u5f20\\\\u65fa\",\"stno\":\"038002\",\"avatar\":\"\\\\/\\\\/img.ketangpai.com\\\\/ketangpai.aliapp.com\\\\/1\\\\/webroot\\\\/Uploads\\\\/Download\\\\/2021-02-26\\\\/1614307232.jpg%40%2162-62?OSSAccessKeyId=LTAItfPkNIKJFibY&Expires=1933937883&Signature=RzcY7jwQvPTG%2BgXfhFXV4DoWdQA%3D\",\"nikename\":null,\"nikestno\":null},{\"username\":\"\\\\u6d69\\\\u6d69-C\",\"stno\":\"038003\",\"avatar\":\"\\\\/\\\\/img.ketangpai.com\\\\/ketangpai.aliapp.com\\\\/1\\\\/webroot\\\\/Uploads\\\\/Download\\\\/2021-01-07\\\\/1609981426.jpg%40%2162-62?OSSAccessKeyId=LTAItfPkNIKJFibY&Expires=1933937883&Signature=M14Ra%2FOkIQQpLh%2B0BHwGHDbmifY%3D\",\"nikename\":\"\\\\u6d69\\\\u6d69-C\",\"nikestno\":\"038003\"}],\"withScreenState\":0,\"liveState\":0,\"isattest\":false},{\"id\":\"MDAwMDAwMDAwMLOGpZiGqauxhrVyoQ\",\"issys\":\"0\",\"coursename\":\"web\\\\u81ea\\\\u52a8\\\\u5316\\\\u6d4b\\\\u8bd5\",\"code\":\"MJP3DM\",\"classname\":\"\\\\u8003\\\\u52e4\\\\u6d4b\\\\u8bd5\\\\u4e13\\\\u7528\",\"semester\":\"2021-2022\",\"term\":\"1\",\"isrecruit\":\"0\",\"username\":\"\\\\u5fc3\\\\u84dd\",\"avatar\":\"http:\\\\/\\\\/v4.ketangpai.com\\\\/Public\\\\/Common\\\\/img\\\\/40\\\\/40.png\",\"minpic\":\"\\\\/\\\\/assets.ketangpai.com\\\\/theme\\\\/min\\\\/21.jpg\",\"middlepic\":\"\\\\/\\\\/assets.ketangpai.com\\\\/theme\\\\/middle\\\\/21.jpg\",\"bannercolor\":\"#318eeb\",\"studentbgpic\":\"\\\\/\\\\/assets.ketangpai.com\\\\/theme\\\\/student\\\\/big\\\\/21.png\",\"studentminpic\":\"\\\\/\\\\/assets.ketangpai.com\\\\/theme\\\\/student\\\\/min\\\\/21.png\",\"teacherbgpic\":\"\\\\/\\\\/assets.ketangpai.com\\\\/theme\\\\/teacher\\\\/big\\\\/21.png\",\"teacherminpic\":\"\\\\/\\\\/assets.ketangpai.com\\\\/theme\\\\/teacher\\\\/min\\\\/21.png\",\"living\":0,\"total\":\"1\",\"hlist\":[{\"id\":\"MDAwMDAwMDAwMLOGz92Gz7OxhbVyoQ\",\"title\":\"test\",\"type\":\"0\"}],\"role\":0,\"bgcolor\":\"bgclass3\",\"inviteclass\":\"course-invite-color-3\",\"tclass\":\"tclass-3\",\"students\":[{\"username\":\"\\\\u96f6\\\\u6aac\\\\u73ed-\\\\u5fc3\\\\u84dd\",\"uid\":\"MDAwMDAwMDAwMLSGz96Iqb9phLVyoQ\",\"avatar\":\"http:\\\\/\\\\/v4.ketangpai.com\\\\/Public\\\\/Common\\\\/img\\\\/40\\\\/26.png\"}],\"withScreenState\":0,\"liveState\":0,\"isattest\":false},{\"id\":\"MDAwMDAwMDAwMLSsrZmHqads\",\"issys\":\"0\",\"coursename\":\"python\\\\u81ea\\\\u52a8\\\\u531634\\\\u671f\",\"code\":\"J3UFFW\",\"stopcode\":\"1\",\"classname\":\"\",\"semester\":\"2020-2021\",\"term\":\"1\",\"username\":\"\\\\u80e1\\\\u6768\",\"avatar\":\"http:\\\\/\\\\/v4.ketangpai.com\\\\/Public\\\\/Common\\\\/img\\\\/40\\\\/21.png\",\"minpic\":\"\\\\/\\\\/assets.ketangpai.com\\\\/theme\\\\/min\\\\/01.jpg\",\"middlepic\":\"\\\\/\\\\/assets.ketangpai.com\\\\/theme\\\\/middle\\\\/01.jpg\",\"bannercolor\":\"#318eeb\",\"studentbgpic\":\"\\\\/\\\\/assets.ketangpai.com\\\\/theme\\\\/student\\\\/big\\\\/01.png\",\"studentminpic\":\"\\\\/\\\\/assets.ketangpai.com\\\\/theme\\\\/student\\\\/min\\\\/01.png\",\"teacherbgpic\":\"\\\\/\\\\/assets.ketangpai.com\\\\/theme\\\\/teacher\\\\/big\\\\/01.png\",\"teacherminpic\":\"\\\\/\\\\/assets.ketangpai.com\\\\/theme\\\\/teacher\\\\/min\\\\/01.png\",\"owner\":false,\"total\":\"116\",\"hlist\":[{\"id\":\"MDAwMDAwMDAwMLOGz92G36tohqVyoQ\",\"title\":\"python\\\\u73ed\\\\u7ea7\\\\u5165\\\\u804coffer\\\\u798f\\\\u5229\\\\u6765\\\\u4e00\\\\u6ce2~\",\"type\":\"0\"},{\"id\":\"MDAwMDAwMDAwMLOGz92GqbNrhKVyoQ\",\"title\":\"\\\\u6bd5\\\\u4e1a\\\\u5566\\\\uff0c\\\\u7ed9\\\\u5927\\\\u5bb6\\\\u62dc\\\\u4e2a\\\\u65e9\\\\u5e74\\\\uff0c\\\\u795d\\\\u540c\\\\u5b66\\\\u4eec2021\\\\u5e74\\\\uff0c\\\\u725b\\\\u6c14\\\\u51b2\\\\u5929\\\\uff0c\\\\u725b\\\\u8fd0\\\\u4ea8\\\\u901a\\\\uff0c\\\\u725b\\\\u80a1\\\\u76f8\\\\u968f\\\\uff0c\\\\u725b\\\\u6c14\\\\u54c4\\\\u54c4\\\\uff01\",\"type\":\"0\"}],\"role\":1,\"packageUrl\":\"https:\\\\/\\\\/package.ketangpai.com\\\\/Package\\\\/packageCourseView\\\\/courseid\\\\/MDAwMDAwMDAwMLSsrZmHqads\\\\/uid\\\\/MDAwMDAwMDAwMLSGz96Iqb9phLVyoQ.html\",\"bgcolor\":\"bgclass2\",\"inviteclass\":\"course-invite-color-2\",\"tclass\":\"tclass-2\",\"students\":[{\"username\":\"\\\\u738b\\\\u5c0f\\\\u5029\",\"uid\":\"MDAwMDAwMDAwMLScqZiG37-vhNtyoQ\",\"avatar\":\"http:\\\\/\\\\/v4.ketangpai.com\\\\/Public\\\\/Common\\\\/img\\\\/40\\\\/30.png\"},{\"username\":\"\\\\u7f57\\\\u5c0f\\\\u9ed1\",\"uid\":\"MDAwMDAwMDAwMLOGz5SH381thqVyoQ\",\"avatar\":\"http:\\\\/\\\\/v4.ketangpai.com\\\\/Public\\\\/Common\\\\/img\\\\/40\\\\/32.png\"},{\"username\":\"\\\\u5c0f\\\\u4ed9\\\\u5973\",\"uid\":\"MDAwMDAwMDAwMLScrd6GudGxhaVyoQ\",\"avatar\":\"http:\\\\/\\\\/v4.ketangpai.com\\\\/Public\\\\/Common\\\\/img\\\\/40\\\\/33.png\"}],\"withScreenState\":0,\"liveState\":0,\"isattest\":false},{\"id\":\"MDAwMDAwMDAwMLSctd2H37dp\",\"issys\":\"0\",\"coursename\":\"python\\\\u81ea\\\\u52a8\\\\u5316\\\\u7b2c30\\\\u671f\",\"code\":\"LZ5U78\",\"stopcode\":\"0\",\"classname\":\"30\",\"semester\":\"2013-2014\",\"term\":\"1\",\"username\":\"\\\\u67e0\\\\u6aac\\\\u73ed-\\\\u654f\\\\u654f\",\"avatar\":\"http:\\\\/\\\\/img.ketangpai.com\\\\/ketangpai.aliapp.com\\\\/1\\\\/webroot\\\\/Uploads\\\\/Download\\\\/2019-11-04\\\\/1572860860.jpg%40%2162-62?OSSAccessKeyId=LTAItfPkNIKJFibY&Expires=1933939303&Signature=lSzjH58%2FEgFkkHIHxBCioOM3z28%3D\",\"minpic\":\"\\\\/\\\\/assets.ketangpai.com\\\\/theme\\\\/min\\\\/11.jpg\",\"middlepic\":\"\\\\/\\\\/assets.ketangpai.com\\\\/theme\\\\/middle\\\\/11.jpg\",\"bannercolor\":\"#318eeb\",\"studentbgpic\":\"\\\\/\\\\/assets.ketangpai.com\\\\/theme\\\\/student\\\\/big\\\\/11.png\",\"studentminpic\":\"\\\\/\\\\/assets.ketangpai.com\\\\/theme\\\\/student\\\\/min\\\\/11.png\",\"teacherbgpic\":\"\\\\/\\\\/assets.ketangpai.com\\\\/theme\\\\/teacher\\\\/big\\\\/11.png\",\"teacherminpic\":\"\\\\/\\\\/assets.ketangpai.com\\\\/theme\\\\/teacher\\\\/min\\\\/11.png\",\"owner\":false,\"total\":\"232\",\"hlist\":[{\"id\":\"MDAwMDAwMDAwMLOGuZmIqatphNtyoQ\",\"title\":\"\\\\u6bd5\\\\u4e1a\\\\u5b9e\\\\u6218\\\\u5c0f\\\\u9879\\\\u76ee - web\\\\u81ea\\\\u52a8\\\\u5316 - \\\\u6846\\\\u67b6\\\\u5e94\\\\u7528\\\\u8d77\\\\u6765\\\\uff01\",\"type\":\"0\"},{\"id\":\"MDAwMDAwMDAwMLOGud6Gqc1ohbVyoQ\",\"title\":\"2020-0914 - \\\\u4f7f\\\\u7528app\\\\u5143\\\\u7d20\\\\u5b9a\\\\u4f4d\\\\u548c\\\\u64cd\\\\u4f5c\\\\uff0c\\\\u73a9\\\\u4e00\\\\u73a9\\\\u624b\\\\u673a\\\\u5440\\\\uff01\\\\uff01\",\"type\":\"0\"}],\"role\":1,\"packageUrl\":\"https:\\\\/\\\\/package.ketangpai.com\\\\/Package\\\\/packageCourseView\\\\/courseid\\\\/MDAwMDAwMDAwMLSctd2H37dp\\\\/uid\\\\/MDAwMDAwMDAwMLSGz96Iqb9phLVyoQ.html\",\"bgcolor\":\"bgclass1\",\"inviteclass\":\"course-invite-color-1\",\"tclass\":\"tclass-1\",\"students\":[{\"username\":\"\\\\u4ed3\\\\u4e16\\\\u8425\",\"uid\":\"MDAwMDAwMDAwMLSGz92Gz69thMtyoQ\",\"avatar\":\"http:\\\\/\\\\/thirdwx.qlogo.cn\\\\/mmopen\\\\/vi_32\\\\/oWoSTT1lB9xY4CibSHGSu8te8oKh4Iy6WKmcxiapnRnr0VZHc1h3Tva9KE5KXodmQ66wfTCLZIgMneWs8Yic81uMg\\\\/132\"},{\"username\":\"\\\\u6d41\\\\u6c99\",\"uid\":\"MDAwMDAwMDAwMLScz5aGz8lohaVyoQ\",\"avatar\":\"http:\\\\/\\\\/v4.ketangpai.com\\\\/Public\\\\/Common\\\\/img\\\\/40\\\\/21.png\"},{\"username\":\"\\\\u96c5\\\\u5404\",\"uid\":\"MDAwMDAwMDAwMLScrZmIqc2yhKVyoQ\",\"avatar\":\"http:\\\\/\\\\/img.ketangpai.com\\\\/ketangpai.aliapp.com\\\\/1\\\\/webroot\\\\/Uploads\\\\/Download\\\\/2020-11-19\\\\/1605761050.jpg%40%2162-62?OSSAccessKeyId=LTAItfPkNIKJFibY&Expires=1933933663&Signature=XR1cLGF4KmIjG3mt2IOYv%2FWkgeQ%3D\"}],\"withScreenState\":0,\"liveState\":0,\"isattest\":false}],\"lists\":[{\"id\":\"MDAwMDAwMDAwMLSsrZWHz7-w\",\"issys\":\"1\",\"coursename\":\"\\\\u719f\\\\u6089  \\\\u8bfe\\\\u5802\\\\u6d3e\",\"code\":\"MPYFZN\",\"stopcode\":\"0\",\"classname\":null,\"semester\":\"2019-2020\",\"term\":\"2\",\"isrecruit\":\"0\",\"username\":\"\\\\u96f6\\\\u6aac\\\\u73ed-\\\\u5fc3\\\\u84dd\",\"avatar\":\"http:\\\\/\\\\/v4.ketangpai.com\\\\/Public\\\\/Common\\\\/img\\\\/40\\\\/26.png\",\"minpic\":\"\\\\/\\\\/assets.ketangpai.com\\\\/theme\\\\/min\\\\/18.jpg\",\"middlepic\":\"\\\\/\\\\/assets.ketangpai.com\\\\/theme\\\\/middle\\\\/18.jpg\",\"bannercolor\":\"#318eeb\",\"studentbgpic\":\"\\\\/\\\\/assets.ketangpai.com\\\\/theme\\\\/student\\\\/big\\\\/18.png\",\"studentminpic\":\"\\\\/\\\\/assets.ketangpai.com\\\\/theme\\\\/student\\\\/min\\\\/18.png\",\"teacherbgpic\":\"\\\\/\\\\/assets.ketangpai.com\\\\/theme\\\\/teacher\\\\/big\\\\/18.png\",\"teacherminpic\":\"\\\\/\\\\/assets.ketangpai.com\\\\/theme\\\\/teacher\\\\/min\\\\/18.png\",\"owner\":true,\"total\":\"20\",\"hlist\":[{\"id\":\"MDAwMDAwMDAwMLOGtZeH36-vhMtyoQ\",\"title\":\"\\\\u8303\\\\u4f8b_\\\\u7b2c\\\\u4e00\\\\u6b21\\\\u4f5c\\\\u4e1a\",\"type\":\"0\"}],\"role\":1,\"packageUrl\":\"https:\\\\/\\\\/package.ketangpai.com\\\\/Package\\\\/packageCourseView\\\\/courseid\\\\/MDAwMDAwMDAwMLSsrZWHz7-w\\\\/uid\\\\/MDAwMDAwMDAwMLSGz96Iqb9phLVyoQ.html\",\"bgcolor\":\"bgclass0\",\"inviteclass\":\"course-invite-color-0\",\"tclass\":\"tclass-0\",\"students\":[{\"username\":\"\\\\u9ad8\\\\u65af\",\"uid\":\"MDAwMDAwMDAwMLR2uaE\",\"avatar\":\"http:\\\\/\\\\/v4.ketangpai.com\\\\/Public\\\\/static\\\\/soon\\\\/images\\\\/20\\\\/3.jpg\"},{\"username\":\"\\\\u5b89\\\\u57f9\\\\n\",\"uid\":\"MDAwMDAwMDAwMLSGvaE\",\"avatar\":\"http:\\\\/\\\\/v4.ketangpai.com\\\\/Public\\\\/static\\\\/soon\\\\/images\\\\/20\\\\/3.jpg\"},{\"username\":\"\\\\u8d1d\\\\u5c14\\\\n\",\"uid\":\"MDAwMDAwMDAwMLSGx6E\",\"avatar\":\"http:\\\\/\\\\/v4.ketangpai.com\\\\/Public\\\\/static\\\\/soon\\\\/images\\\\/20\\\\/3.jpg\"}],\"withScreenState\":0,\"liveState\":0,\"isattest\":false}],\"info\":\"success\",\"sysCount\":\"1\",\"userRole\":\"1\",\"isPopApprove\":0}'"
      ]
     },
     "execution_count": 45,
     "metadata": {},
     "output_type": "execute_result"
    }
   ],
   "source": [
    "# 再去访问课程列表接口\n",
    "courses_url = 'https://v4.ketangpai.com/CourseApi/lists'\n",
    "# 获取课程列表\n",
    "res = s.get(courses_url, cookies=res.cookies)\n",
    "res.text\n"
   ]
  },
  {
   "cell_type": "code",
   "execution_count": 4,
   "metadata": {},
   "outputs": [],
   "source": [
    "data = '''{ \"store\":{\n",
    "     \"book\":[\n",
    "      { \"category\":\"参考\",\n",
    "         \"author\":\"Nigel Rees\",\n",
    "         \"title\":\"世纪风俗\",\n",
    "         \"price\":8.95\n",
    "      },\n",
    "      { \"category\":\"小说\",\n",
    "         \"author\":\"Evelyn Waugh\",\n",
    "         \"title\":\"荣誉剑\",\n",
    "         \"price\":12.99\n",
    "      },\n",
    "      { \"category\":\"小说\",\n",
    "         \"author\":\"Herman Melville\",\n",
    "         \"title\":\"Moby Dick\",\n",
    "         \"isbn\":\"0-553-21311-3\",\n",
    "         \"price\":8.99\n",
    "      },\n",
    "      { \"category\":\"小说\",\n",
    "         \"author\":\"JRR Tolkien\",\n",
    "         \"title\":\"指环王\",\n",
    "         \"isbn\":\"0-395-19395-8\",\n",
    "         \"price\":22.99\n",
    "      }\n",
    "    ],\n",
    "    \"bicycle\":{\n",
    "       \"color\":\"red\",\n",
    "       \"price\":19.95\n",
    "    }\n",
    "  }\n",
    "}'''\n",
    "import json\n",
    "data = json.loads(data)"
   ]
  },
  {
   "cell_type": "code",
   "execution_count": null,
   "metadata": {},
   "outputs": [],
   "source": [
    "'$.store'"
   ]
  },
  {
   "cell_type": "code",
   "execution_count": 3,
   "metadata": {},
   "outputs": [],
   "source": [
    "from  jsonpath import jsonpath\n"
   ]
  },
  {
   "cell_type": "code",
   "execution_count": 12,
   "metadata": {},
   "outputs": [
    {
     "data": {
      "text/plain": [
       "['Nigel Rees', 'Evelyn Waugh', 'Herman Melville', 'JRR Tolkien']"
      ]
     },
     "execution_count": 12,
     "metadata": {},
     "output_type": "execute_result"
    }
   ],
   "source": [
    "# 输出的是一个列表哪怕只有一个元素\n",
    "jsonpath(data, '$.store.book[*].author')"
   ]
  },
  {
   "cell_type": "code",
   "execution_count": 16,
   "metadata": {},
   "outputs": [
    {
     "data": {
      "text/plain": [
       "['Nigel Rees', 'Evelyn Waugh', 'Herman Melville', 'JRR Tolkien']"
      ]
     },
     "execution_count": 16,
     "metadata": {},
     "output_type": "execute_result"
    }
   ],
   "source": [
    "jsonpath(data, '$..author')"
   ]
  },
  {
   "cell_type": "code",
   "execution_count": 20,
   "metadata": {},
   "outputs": [
    {
     "data": {
      "text/plain": [
       "[[{'category': '参考', 'author': 'Nigel Rees', 'title': '世纪风俗', 'price': 8.95},\n",
       "  {'category': '小说', 'author': 'Evelyn Waugh', 'title': '荣誉剑', 'price': 12.99},\n",
       "  {'category': '小说',\n",
       "   'author': 'Herman Melville',\n",
       "   'title': 'Moby Dick',\n",
       "   'isbn': '0-553-21311-3',\n",
       "   'price': 8.99},\n",
       "  {'category': '小说',\n",
       "   'author': 'JRR Tolkien',\n",
       "   'title': '指环王',\n",
       "   'isbn': '0-395-19395-8',\n",
       "   'price': 22.99}],\n",
       " {'color': 'red', 'price': 19.95}]"
      ]
     },
     "execution_count": 20,
     "metadata": {},
     "output_type": "execute_result"
    }
   ],
   "source": [
    "jsonpath(data, '$.store.*')"
   ]
  },
  {
   "cell_type": "code",
   "execution_count": 22,
   "metadata": {},
   "outputs": [
    {
     "data": {
      "text/plain": [
       "[{'category': '小说',\n",
       "  'author': 'JRR Tolkien',\n",
       "  'title': '指环王',\n",
       "  'isbn': '0-395-19395-8',\n",
       "  'price': 22.99}]"
      ]
     },
     "execution_count": 22,
     "metadata": {},
     "output_type": "execute_result"
    }
   ],
   "source": [
    "jsonpath(data, '$..book[-1:]')"
   ]
  },
  {
   "cell_type": "code",
   "execution_count": 23,
   "metadata": {},
   "outputs": [
    {
     "data": {
      "text/plain": [
       "[{'category': '小说',\n",
       "  'author': 'JRR Tolkien',\n",
       "  'title': '指环王',\n",
       "  'isbn': '0-395-19395-8',\n",
       "  'price': 22.99}]"
      ]
     },
     "execution_count": 23,
     "metadata": {},
     "output_type": "execute_result"
    }
   ],
   "source": [
    "jsonpath(data, '$..book[(@.length-1)]')"
   ]
  },
  {
   "cell_type": "code",
   "execution_count": 24,
   "metadata": {},
   "outputs": [
    {
     "data": {
      "text/plain": [
       "[{'category': '参考', 'author': 'Nigel Rees', 'title': '世纪风俗', 'price': 8.95},\n",
       " {'category': '小说',\n",
       "  'author': 'Herman Melville',\n",
       "  'title': 'Moby Dick',\n",
       "  'isbn': '0-553-21311-3',\n",
       "  'price': 8.99}]"
      ]
     },
     "execution_count": 24,
     "metadata": {},
     "output_type": "execute_result"
    }
   ],
   "source": [
    "jsonpath(data, '$..book[0,2]')"
   ]
  },
  {
   "cell_type": "code",
   "execution_count": 25,
   "metadata": {},
   "outputs": [
    {
     "data": {
      "text/plain": [
       "[{'category': '小说',\n",
       "  'author': 'Herman Melville',\n",
       "  'title': 'Moby Dick',\n",
       "  'isbn': '0-553-21311-3',\n",
       "  'price': 8.99},\n",
       " {'category': '小说',\n",
       "  'author': 'JRR Tolkien',\n",
       "  'title': '指环王',\n",
       "  'isbn': '0-395-19395-8',\n",
       "  'price': 22.99}]"
      ]
     },
     "execution_count": 25,
     "metadata": {},
     "output_type": "execute_result"
    }
   ],
   "source": [
    "jsonpath(data, '$..book[?(@.isbn)]')"
   ]
  },
  {
   "cell_type": "code",
   "execution_count": 26,
   "metadata": {},
   "outputs": [
    {
     "data": {
      "text/plain": [
       "[{'category': '参考', 'author': 'Nigel Rees', 'title': '世纪风俗', 'price': 8.95},\n",
       " {'category': '小说',\n",
       "  'author': 'Herman Melville',\n",
       "  'title': 'Moby Dick',\n",
       "  'isbn': '0-553-21311-3',\n",
       "  'price': 8.99}]"
      ]
     },
     "execution_count": 26,
     "metadata": {},
     "output_type": "execute_result"
    }
   ],
   "source": [
    "jsonpath(data, '$..book[?(@.price<10)]')"
   ]
  },
  {
   "cell_type": "code",
   "execution_count": 27,
   "metadata": {},
   "outputs": [
    {
     "data": {
      "text/plain": [
       "False"
      ]
     },
     "execution_count": 27,
     "metadata": {},
     "output_type": "execute_result"
    }
   ],
   "source": [
    "jsonpath(data, '$')"
   ]
  },
  {
   "cell_type": "code",
   "execution_count": 30,
   "metadata": {},
   "outputs": [
    {
     "data": {
      "text/plain": [
       "[{'book': [{'category': '参考',\n",
       "    'author': 'Nigel Rees',\n",
       "    'title': '世纪风俗',\n",
       "    'price': 8.95},\n",
       "   {'category': '小说',\n",
       "    'author': 'Evelyn Waugh',\n",
       "    'title': '荣誉剑',\n",
       "    'price': 12.99},\n",
       "   {'category': '小说',\n",
       "    'author': 'Herman Melville',\n",
       "    'title': 'Moby Dick',\n",
       "    'isbn': '0-553-21311-3',\n",
       "    'price': 8.99},\n",
       "   {'category': '小说',\n",
       "    'author': 'JRR Tolkien',\n",
       "    'title': '指环王',\n",
       "    'isbn': '0-395-19395-8',\n",
       "    'price': 22.99}],\n",
       "  'bicycle': {'color': 'red', 'price': 19.95}},\n",
       " [{'category': '参考', 'author': 'Nigel Rees', 'title': '世纪风俗', 'price': 8.95},\n",
       "  {'category': '小说', 'author': 'Evelyn Waugh', 'title': '荣誉剑', 'price': 12.99},\n",
       "  {'category': '小说',\n",
       "   'author': 'Herman Melville',\n",
       "   'title': 'Moby Dick',\n",
       "   'isbn': '0-553-21311-3',\n",
       "   'price': 8.99},\n",
       "  {'category': '小说',\n",
       "   'author': 'JRR Tolkien',\n",
       "   'title': '指环王',\n",
       "   'isbn': '0-395-19395-8',\n",
       "   'price': 22.99}],\n",
       " {'color': 'red', 'price': 19.95},\n",
       " {'category': '参考', 'author': 'Nigel Rees', 'title': '世纪风俗', 'price': 8.95},\n",
       " {'category': '小说', 'author': 'Evelyn Waugh', 'title': '荣誉剑', 'price': 12.99},\n",
       " {'category': '小说',\n",
       "  'author': 'Herman Melville',\n",
       "  'title': 'Moby Dick',\n",
       "  'isbn': '0-553-21311-3',\n",
       "  'price': 8.99},\n",
       " {'category': '小说',\n",
       "  'author': 'JRR Tolkien',\n",
       "  'title': '指环王',\n",
       "  'isbn': '0-395-19395-8',\n",
       "  'price': 22.99},\n",
       " '参考',\n",
       " 'Nigel Rees',\n",
       " '世纪风俗',\n",
       " 8.95,\n",
       " '小说',\n",
       " 'Evelyn Waugh',\n",
       " '荣誉剑',\n",
       " 12.99,\n",
       " '小说',\n",
       " 'Herman Melville',\n",
       " 'Moby Dick',\n",
       " '0-553-21311-3',\n",
       " 8.99,\n",
       " '小说',\n",
       " 'JRR Tolkien',\n",
       " '指环王',\n",
       " '0-395-19395-8',\n",
       " 22.99,\n",
       " 'red',\n",
       " 19.95]"
      ]
     },
     "execution_count": 30,
     "metadata": {},
     "output_type": "execute_result"
    }
   ],
   "source": [
    "jsonpath(data, '$..*')"
   ]
  }
 ],
 "metadata": {
  "kernelspec": {
   "display_name": "Python 3",
   "language": "python",
   "name": "python3"
  },
  "language_info": {
   "codemirror_mode": {
    "name": "ipython",
    "version": 3
   },
   "file_extension": ".py",
   "mimetype": "text/x-python",
   "name": "python",
   "nbconvert_exporter": "python",
   "pygments_lexer": "ipython3",
   "version": "3.8.5"
  },
  "toc": {
   "base_numbering": 1,
   "nav_menu": {},
   "number_sections": false,
   "sideBar": true,
   "skip_h1_title": false,
   "title_cell": "Table of Contents",
   "title_sidebar": "Contents",
   "toc_cell": false,
   "toc_position": {},
   "toc_section_display": true,
   "toc_window_display": false
  }
 },
 "nbformat": 4,
 "nbformat_minor": 4
}
